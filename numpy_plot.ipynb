{
 "cells": [
  {
   "cell_type": "markdown",
   "metadata": {},
   "source": [
    "# Numpy 로 저장된 이미지 배열을 plot\n",
    "\n",
    "    (1) numpy 배열저장된 파일을 로딩해오자."
   ]
  },
  {
   "cell_type": "code",
   "execution_count": null,
   "metadata": {},
   "outputs": [],
   "source": [
    "import numpy as np\n",
    "import matplotlib.pyplot as plt\n",
    "\n",
    "data_1 = \"./data/data1.npy\"\n",
    "data_2 = \"./data/data2.npy\"\n",
    "data_3 = \"./data/data3.npy\"\n",
    "data_4 = \"./data/data4.npy\"\n",
    "\n",
    "data_1 = np.load(data_1)\n",
    "data_2 = np.load(data_2)\n",
    "data_3 = np.load(data_3)\n",
    "data_4 = np.load(data_4)\n",
    "\n",
    "fig = plt.figure(figsize = (8, 8))\n",
    "for i in range(25):\n",
    "    im = data_1[i]\n",
    "    ax = fig.add_suplot(5, 5, i+1)\n",
    "    ax.imshow(im, cmap = 'gray')\n",
    "    ax.axis('off')\n",
    "    ax.axis('equal')\n",
    "plt.tight_layout()\n",
    "plt.show()"
   ]
  }
 ],
 "metadata": {
  "kernelspec": {
   "display_name": "Python 3",
   "language": "python",
   "name": "python3"
  },
  "language_info": {
   "name": "python",
   "version": "3.13.2"
  }
 },
 "nbformat": 4,
 "nbformat_minor": 2
}
