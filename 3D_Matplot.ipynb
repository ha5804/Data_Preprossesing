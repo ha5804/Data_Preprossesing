{
 "cells": [
  {
   "cell_type": "markdown",
   "metadata": {},
   "source": [
    "# Gradient Descent with 3D_surface\n",
    "    \n",
    "    - 각 point는 point_clean.csv, point_noisy.csv 파일에 저장되어 있다.\n",
    "\n",
    "    "
   ]
  },
  {
   "cell_type": "markdown",
   "metadata": {},
   "source": [
    "(1) matplotlib.image 는 이미지를 읽고 저장하는 기능을 제공한다.\n",
    "    \n",
    "    - img.imread('pat_file'), img.imsave('pat_file', my_array)\n",
    "\n",
    "(2) 3D를 plot 하기 위해서는 mpl_toolkits.mplot3d 의 Axes3D 필요\n"
   ]
  },
  {
   "cell_type": "code",
   "execution_count": null,
   "metadata": {},
   "outputs": [],
   "source": [
    "import numpy as np\n",
    "import matplotlib.image as img\n",
    "import matplotlib.pyplot as plt\n",
    "import matplotlib.colors as colors\n",
    "from matplotlib.ticker import LinearLocator\n",
    "from matplotlib import cm\n",
    "from mpl_toolkits.mplot3d import Axes3D\n",
    "import csv"
   ]
  },
  {
   "cell_type": "markdown",
   "metadata": {},
   "source": [
    "## 파일에 저장된 csv 를 처리하자.\n",
    "\n",
    "### (1) MyPlot class\n",
    "\n",
    "    - 반복적으로 사용되는 fig_size를 기본 속성으로 생성\n",
    "\n",
    "    - plot_point에는 gradient descent를 통해 계산된 loss값 plot\n",
    "\n",
    "    - plot_surface 에는 주어진 point를 plot\n",
    "\n",
    "    - plot_surface_point 에는 clean_surface위에 noisy point를 plot하자"
   ]
  },
  {
   "cell_type": "code",
   "execution_count": null,
   "metadata": {},
   "outputs": [],
   "source": [
    "class MyPlot:\n",
    "    def __init__(self):\n",
    "        self.fig_size = (8, 8)\n",
    "    \n",
    "    def plot_point(self, loss):\n",
    "        plt.figure(self.fig_size)\n",
    "        plt.xlabel('iteration')\n",
    "        plt.ylabel('loss')\n",
    "        plt.plot(loss, color = 'r')\n",
    "\n",
    "    def plot_surface(self, x_surface, y_surface, z_surface):\n",
    "        fig = plt.figure()\n",
    "        ax = fig.add_subplot(111, projection = '3d')\n",
    "        ax.plot_surface(x_surface, y_surface, z_surface, cmap = 'viridis')\n",
    "    \n",
    "    def plot_surface_point(self, x_surface, y_surface, z_surface, x_point, y_point, z_point):\n",
    "        fig = plt.figure()\n",
    "        ax = fig.add_subplot(111, projection = '3d')\n",
    "        ax.plot_surface(x_surface, y_surface, z_surface, cmap = 'viridis')\n",
    "        ax.scatter(x_point, y_point, z_point, color = 'r')"
   ]
  },
  {
   "cell_type": "markdown",
   "metadata": {},
   "source": [
    "## 데이터를 Plot하기 위해 가공해보자"
   ]
  },
  {
   "cell_type": "code",
   "execution_count": null,
   "metadata": {},
   "outputs": [],
   "source": [
    "class MyData:\n",
    "    def __init__(self):\n",
    "        pass"
   ]
  }
 ],
 "metadata": {
  "kernelspec": {
   "display_name": "Python 3",
   "language": "python",
   "name": "python3"
  },
  "language_info": {
   "name": "python",
   "version": "3.13.2"
  }
 },
 "nbformat": 4,
 "nbformat_minor": 2
}
