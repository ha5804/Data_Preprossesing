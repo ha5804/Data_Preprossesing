{
 "cells": [
  {
   "cell_type": "markdown",
   "metadata": {},
   "source": [
    "# Gradient Descent with 3D_surface\n",
    "    \n",
    "    - 각 point는 point_clean.csv, point_noisy.csv 파일에 저장되어 있다.\n",
    "\n",
    "    "
   ]
  },
  {
   "cell_type": "markdown",
   "metadata": {},
   "source": [
    "(1) matplotlib.image 는 이미지를 읽고 저장하는 기능을 제공한다.\n",
    "    \n",
    "    - img.imread('pat_file'), img.imsave('pat_file', my_array)\n",
    "\n",
    "(2) 3D를 plot 하기 위해서는 mpl_toolkits.mplot3d 의 Axes3D 필요\n"
   ]
  },
  {
   "cell_type": "code",
   "execution_count": 1,
   "metadata": {},
   "outputs": [],
   "source": [
    "import numpy as np\n",
    "import matplotlib.image as img\n",
    "import matplotlib.pyplot as plt\n",
    "import matplotlib.colors as colors\n",
    "from matplotlib.ticker import LinearLocator\n",
    "from matplotlib import cm\n",
    "from mpl_toolkits.mplot3d import Axes3D\n",
    "import csv"
   ]
  },
  {
   "cell_type": "markdown",
   "metadata": {},
   "source": [
    "## 파일에 저장된 csv 를 처리하자.\n",
    "\n",
    "### (1) MyPlot class\n",
    "\n",
    "    - 반복적으로 사용되는 fig_size를 기본 속성으로 생성\n",
    "\n",
    "    - plot_point에는 gradient descent를 통해 계산된 loss값 plot\n",
    "\n",
    "    - plot_surface 에는 주어진 point를 plot\n",
    "\n",
    "    - plot_surface_point 에는 clean_surface위에 noisy point를 plot하자"
   ]
  },
  {
   "cell_type": "code",
   "execution_count": 2,
   "metadata": {},
   "outputs": [],
   "source": [
    "class MyPlot:\n",
    "    def __init__(self):\n",
    "        self.fig_size = (8, 8)\n",
    "    \n",
    "    def plot_point(self, loss):\n",
    "        plt.figure(self.fig_size)\n",
    "        plt.xlabel('iteration')\n",
    "        plt.ylabel('loss')\n",
    "        plt.plot(loss, color = 'r')\n",
    "\n",
    "    def plot_surface(self, x_surface, y_surface, z_surface):\n",
    "        fig = plt.figure()\n",
    "        ax = fig.add_subplot(111, projection = '3d')\n",
    "        ax.plot_surface(x_surface, y_surface, z_surface, cmap = 'viridis')\n",
    "    \n",
    "    def plot_surface_point(self, x_surface, y_surface, z_surface, x_point, y_point, z_point):\n",
    "        fig = plt.figure()\n",
    "        ax = fig.add_subplot(111, projection = '3d')\n",
    "        ax.plot_surface(x_surface, y_surface, z_surface, cmap = 'viridis')\n",
    "        ax.scatter(x_point, y_point, z_point, color = 'r')"
   ]
  },
  {
   "cell_type": "markdown",
   "metadata": {},
   "source": [
    "## 데이터를 Plot하기 위해 가공해보자\n",
    "\n",
    "    - init 에 path를 저장해놓으면 유지보수가 수월하다."
   ]
  },
  {
   "cell_type": "code",
   "execution_count": 3,
   "metadata": {},
   "outputs": [],
   "source": [
    "class MyData:\n",
    "    def __init__(self):\n",
    "        self.path_clean = \"./point_clean.csv\"\n",
    "        self.path_noisy = \"./point_noisy.csv\"\n",
    "    \n",
    "    def get_point_clean(self):\n",
    "        clean_point = np.genfromtxt(self.path_clean, delimiter = ',')\n",
    "        return clean_point\n",
    "    \n",
    "    def get_point_noisy(self):\n",
    "        noisy_point = np.genfromtxt(self.path_noisy, delimiter = ',')\n",
    "        return noisy_point"
   ]
  },
  {
   "cell_type": "markdown",
   "metadata": {},
   "source": [
    "## Data를 생성해서 Plot 해보자"
   ]
  },
  {
   "cell_type": "code",
   "execution_count": 4,
   "metadata": {},
   "outputs": [],
   "source": [
    "myplot = MyPlot()\n",
    "data = MyData()\n",
    "\n",
    "clean_p = data.get_point_clean()\n",
    "noisy_p = data.get_point_noisy()\n",
    "\n",
    "clean_x = clean_p[0]\n",
    "clean_y = clean_p[1]\n",
    "clean_z = clean_p[2]\n",
    "\n",
    "noisy_x = noisy_p[0]\n",
    "noisy_y = noisy_p[1]\n",
    "noisy_z = noisy_p[2]"
   ]
  },
  {
   "cell_type": "markdown",
   "metadata": {},
   "source": [
    "### Data를 surface로 plot하기 위해서는 grid화 필요. shpae를 파악하자."
   ]
  },
  {
   "cell_type": "code",
   "execution_count": 5,
   "metadata": {},
   "outputs": [
    {
     "name": "stdout",
     "output_type": "stream",
     "text": [
      "(400,) (400,) (400,)\n",
      "(400,) (400,) (400,)\n"
     ]
    }
   ],
   "source": [
    "print(clean_x.shape, clean_y.shape, clean_z.shape)\n",
    "print(noisy_x.shape, noisy_y.shape, noisy_z.shape)"
   ]
  },
  {
   "cell_type": "code",
   "execution_count": 11,
   "metadata": {},
   "outputs": [
    {
     "name": "stdout",
     "output_type": "stream",
     "text": [
      "(20, 20)\n"
     ]
    }
   ],
   "source": [
    "def reshape_point(point):\n",
    "    n_p = point.reshape(-1, 1)\n",
    "    size = int(n_p.shape[0] ** (1/2))\n",
    "    n_p_grid = n_p.reshape(size, size)\n",
    "    return n_p_grid\n",
    "\n",
    "grid_x = reshape_point(clean_x)\n",
    "grid_y = reshape_point(clean_y)\n",
    "grid_z = reshape_point(clean_z)\n",
    "grid_n_x = reshape_point(noisy_x)\n",
    "grid_n_y = reshape_point(noisy_y)\n",
    "grid_n_z = reshape_point(noisy_z)\n",
    "print(grid_x.shape)\n",
    "\n"
   ]
  }
 ],
 "metadata": {
  "kernelspec": {
   "display_name": "Python 3",
   "language": "python",
   "name": "python3"
  },
  "language_info": {
   "codemirror_mode": {
    "name": "ipython",
    "version": 3
   },
   "file_extension": ".py",
   "mimetype": "text/x-python",
   "name": "python",
   "nbconvert_exporter": "python",
   "pygments_lexer": "ipython3",
   "version": "3.13.2"
  }
 },
 "nbformat": 4,
 "nbformat_minor": 2
}
